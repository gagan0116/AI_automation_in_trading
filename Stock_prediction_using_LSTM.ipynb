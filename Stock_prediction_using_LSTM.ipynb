{
  "nbformat": 4,
  "nbformat_minor": 0,
  "metadata": {
    "colab": {
      "provenance": []
    },
    "kernelspec": {
      "name": "python3",
      "display_name": "Python 3"
    },
    "language_info": {
      "name": "python"
    }
  },
  "cells": [
    {
      "cell_type": "code",
      "execution_count": 1,
      "metadata": {
        "colab": {
          "base_uri": "https://localhost:8080/"
        },
        "id": "z03Ziuba-Cp5",
        "outputId": "52616b7d-938c-4b1f-9834-49c54ac4c7c9"
      },
      "outputs": [
        {
          "output_type": "stream",
          "name": "stdout",
          "text": [
            "Looking in indexes: https://pypi.org/simple, https://us-python.pkg.dev/colab-wheels/public/simple/\n",
            "Collecting yfinance\n",
            "  Downloading yfinance-0.1.87-py2.py3-none-any.whl (29 kB)\n",
            "Requirement already satisfied: appdirs>=1.4.4 in /usr/local/lib/python3.7/dist-packages (from yfinance) (1.4.4)\n",
            "Requirement already satisfied: pandas>=0.24.0 in /usr/local/lib/python3.7/dist-packages (from yfinance) (1.3.5)\n",
            "Requirement already satisfied: numpy>=1.15 in /usr/local/lib/python3.7/dist-packages (from yfinance) (1.21.6)\n",
            "Requirement already satisfied: lxml>=4.5.1 in /usr/local/lib/python3.7/dist-packages (from yfinance) (4.9.1)\n",
            "Collecting requests>=2.26\n",
            "  Downloading requests-2.28.1-py3-none-any.whl (62 kB)\n",
            "\u001b[K     |████████████████████████████████| 62 kB 1.1 MB/s \n",
            "\u001b[?25hRequirement already satisfied: multitasking>=0.0.7 in /usr/local/lib/python3.7/dist-packages (from yfinance) (0.0.11)\n",
            "Requirement already satisfied: pytz>=2017.3 in /usr/local/lib/python3.7/dist-packages (from pandas>=0.24.0->yfinance) (2022.6)\n",
            "Requirement already satisfied: python-dateutil>=2.7.3 in /usr/local/lib/python3.7/dist-packages (from pandas>=0.24.0->yfinance) (2.8.2)\n",
            "Requirement already satisfied: six>=1.5 in /usr/local/lib/python3.7/dist-packages (from python-dateutil>=2.7.3->pandas>=0.24.0->yfinance) (1.15.0)\n",
            "Requirement already satisfied: idna<4,>=2.5 in /usr/local/lib/python3.7/dist-packages (from requests>=2.26->yfinance) (2.10)\n",
            "Requirement already satisfied: charset-normalizer<3,>=2 in /usr/local/lib/python3.7/dist-packages (from requests>=2.26->yfinance) (2.1.1)\n",
            "Requirement already satisfied: certifi>=2017.4.17 in /usr/local/lib/python3.7/dist-packages (from requests>=2.26->yfinance) (2022.9.24)\n",
            "Requirement already satisfied: urllib3<1.27,>=1.21.1 in /usr/local/lib/python3.7/dist-packages (from requests>=2.26->yfinance) (1.24.3)\n",
            "Installing collected packages: requests, yfinance\n",
            "  Attempting uninstall: requests\n",
            "    Found existing installation: requests 2.23.0\n",
            "    Uninstalling requests-2.23.0:\n",
            "      Successfully uninstalled requests-2.23.0\n",
            "Successfully installed requests-2.28.1 yfinance-0.1.87\n"
          ]
        }
      ],
      "source": [
        "!pip install yfinance"
      ]
    },
    {
      "cell_type": "code",
      "source": [
        "import numpy as np\n",
        "import pandas as pd\n",
        "import matplotlib.pyplot as plt\n",
        "import yfinance as yf\n",
        "from datetime import datetime\n",
        "import seaborn as sns\n",
        "import math"
      ],
      "metadata": {
        "id": "fCBkYyiv-G0y"
      },
      "execution_count": 2,
      "outputs": []
    },
    {
      "cell_type": "code",
      "execution_count": 3,
      "metadata": {
        "id": "sk31uekk5pKJ"
      },
      "outputs": [],
      "source": [
        "nse = yf.Ticker(\"^NSEI\")"
      ]
    },
    {
      "cell_type": "code",
      "source": [
        "nse_historical = nse.history(start=\"2000-10-01\", end=\"2022-10-01\", interval=\"1d\")\n",
        "nse_historical"
      ],
      "metadata": {
        "colab": {
          "base_uri": "https://localhost:8080/",
          "height": 455
        },
        "id": "xoNKNvTY-PF4",
        "outputId": "c5df346b-1b12-4a7d-86c0-44177094af6c"
      },
      "execution_count": 4,
      "outputs": [
        {
          "output_type": "execute_result",
          "data": {
            "text/plain": [
              "                                   Open          High           Low  \\\n",
              "Date                                                                  \n",
              "2007-09-17 00:00:00+05:30   4518.450195   4549.049805   4482.850098   \n",
              "2007-09-18 00:00:00+05:30   4494.100098   4551.799805   4481.549805   \n",
              "2007-09-19 00:00:00+05:30   4550.250000   4739.000000   4550.250000   \n",
              "2007-09-20 00:00:00+05:30   4734.850098   4760.850098   4721.149902   \n",
              "2007-09-21 00:00:00+05:30   4752.950195   4855.700195   4733.700195   \n",
              "...                                 ...           ...           ...   \n",
              "2022-09-26 00:00:00+05:30  17156.300781  17196.400391  16978.300781   \n",
              "2022-09-27 00:00:00+05:30  17110.900391  17176.449219  16942.349609   \n",
              "2022-09-28 00:00:00+05:30  16870.550781  17037.599609  16820.400391   \n",
              "2022-09-29 00:00:00+05:30  16993.599609  17026.050781  16788.599609   \n",
              "2022-09-30 00:00:00+05:30  16798.050781  17187.099609  16747.699219   \n",
              "\n",
              "                                  Close  Volume  Dividends  Stock Splits  \n",
              "Date                                                                      \n",
              "2007-09-17 00:00:00+05:30   4494.649902       0          0             0  \n",
              "2007-09-18 00:00:00+05:30   4546.200195       0          0             0  \n",
              "2007-09-19 00:00:00+05:30   4732.350098       0          0             0  \n",
              "2007-09-20 00:00:00+05:30   4747.549805       0          0             0  \n",
              "2007-09-21 00:00:00+05:30   4837.549805       0          0             0  \n",
              "...                                 ...     ...        ...           ...  \n",
              "2022-09-26 00:00:00+05:30  17016.300781  492000          0             0  \n",
              "2022-09-27 00:00:00+05:30  17007.400391  359900          0             0  \n",
              "2022-09-28 00:00:00+05:30  16858.599609  323900          0             0  \n",
              "2022-09-29 00:00:00+05:30  16818.099609  340000          0             0  \n",
              "2022-09-30 00:00:00+05:30  17094.349609  376100          0             0  \n",
              "\n",
              "[3685 rows x 7 columns]"
            ],
            "text/html": [
              "\n",
              "  <div id=\"df-c2ba7a25-c069-4356-86dc-b2049f0e4417\">\n",
              "    <div class=\"colab-df-container\">\n",
              "      <div>\n",
              "<style scoped>\n",
              "    .dataframe tbody tr th:only-of-type {\n",
              "        vertical-align: middle;\n",
              "    }\n",
              "\n",
              "    .dataframe tbody tr th {\n",
              "        vertical-align: top;\n",
              "    }\n",
              "\n",
              "    .dataframe thead th {\n",
              "        text-align: right;\n",
              "    }\n",
              "</style>\n",
              "<table border=\"1\" class=\"dataframe\">\n",
              "  <thead>\n",
              "    <tr style=\"text-align: right;\">\n",
              "      <th></th>\n",
              "      <th>Open</th>\n",
              "      <th>High</th>\n",
              "      <th>Low</th>\n",
              "      <th>Close</th>\n",
              "      <th>Volume</th>\n",
              "      <th>Dividends</th>\n",
              "      <th>Stock Splits</th>\n",
              "    </tr>\n",
              "    <tr>\n",
              "      <th>Date</th>\n",
              "      <th></th>\n",
              "      <th></th>\n",
              "      <th></th>\n",
              "      <th></th>\n",
              "      <th></th>\n",
              "      <th></th>\n",
              "      <th></th>\n",
              "    </tr>\n",
              "  </thead>\n",
              "  <tbody>\n",
              "    <tr>\n",
              "      <th>2007-09-17 00:00:00+05:30</th>\n",
              "      <td>4518.450195</td>\n",
              "      <td>4549.049805</td>\n",
              "      <td>4482.850098</td>\n",
              "      <td>4494.649902</td>\n",
              "      <td>0</td>\n",
              "      <td>0</td>\n",
              "      <td>0</td>\n",
              "    </tr>\n",
              "    <tr>\n",
              "      <th>2007-09-18 00:00:00+05:30</th>\n",
              "      <td>4494.100098</td>\n",
              "      <td>4551.799805</td>\n",
              "      <td>4481.549805</td>\n",
              "      <td>4546.200195</td>\n",
              "      <td>0</td>\n",
              "      <td>0</td>\n",
              "      <td>0</td>\n",
              "    </tr>\n",
              "    <tr>\n",
              "      <th>2007-09-19 00:00:00+05:30</th>\n",
              "      <td>4550.250000</td>\n",
              "      <td>4739.000000</td>\n",
              "      <td>4550.250000</td>\n",
              "      <td>4732.350098</td>\n",
              "      <td>0</td>\n",
              "      <td>0</td>\n",
              "      <td>0</td>\n",
              "    </tr>\n",
              "    <tr>\n",
              "      <th>2007-09-20 00:00:00+05:30</th>\n",
              "      <td>4734.850098</td>\n",
              "      <td>4760.850098</td>\n",
              "      <td>4721.149902</td>\n",
              "      <td>4747.549805</td>\n",
              "      <td>0</td>\n",
              "      <td>0</td>\n",
              "      <td>0</td>\n",
              "    </tr>\n",
              "    <tr>\n",
              "      <th>2007-09-21 00:00:00+05:30</th>\n",
              "      <td>4752.950195</td>\n",
              "      <td>4855.700195</td>\n",
              "      <td>4733.700195</td>\n",
              "      <td>4837.549805</td>\n",
              "      <td>0</td>\n",
              "      <td>0</td>\n",
              "      <td>0</td>\n",
              "    </tr>\n",
              "    <tr>\n",
              "      <th>...</th>\n",
              "      <td>...</td>\n",
              "      <td>...</td>\n",
              "      <td>...</td>\n",
              "      <td>...</td>\n",
              "      <td>...</td>\n",
              "      <td>...</td>\n",
              "      <td>...</td>\n",
              "    </tr>\n",
              "    <tr>\n",
              "      <th>2022-09-26 00:00:00+05:30</th>\n",
              "      <td>17156.300781</td>\n",
              "      <td>17196.400391</td>\n",
              "      <td>16978.300781</td>\n",
              "      <td>17016.300781</td>\n",
              "      <td>492000</td>\n",
              "      <td>0</td>\n",
              "      <td>0</td>\n",
              "    </tr>\n",
              "    <tr>\n",
              "      <th>2022-09-27 00:00:00+05:30</th>\n",
              "      <td>17110.900391</td>\n",
              "      <td>17176.449219</td>\n",
              "      <td>16942.349609</td>\n",
              "      <td>17007.400391</td>\n",
              "      <td>359900</td>\n",
              "      <td>0</td>\n",
              "      <td>0</td>\n",
              "    </tr>\n",
              "    <tr>\n",
              "      <th>2022-09-28 00:00:00+05:30</th>\n",
              "      <td>16870.550781</td>\n",
              "      <td>17037.599609</td>\n",
              "      <td>16820.400391</td>\n",
              "      <td>16858.599609</td>\n",
              "      <td>323900</td>\n",
              "      <td>0</td>\n",
              "      <td>0</td>\n",
              "    </tr>\n",
              "    <tr>\n",
              "      <th>2022-09-29 00:00:00+05:30</th>\n",
              "      <td>16993.599609</td>\n",
              "      <td>17026.050781</td>\n",
              "      <td>16788.599609</td>\n",
              "      <td>16818.099609</td>\n",
              "      <td>340000</td>\n",
              "      <td>0</td>\n",
              "      <td>0</td>\n",
              "    </tr>\n",
              "    <tr>\n",
              "      <th>2022-09-30 00:00:00+05:30</th>\n",
              "      <td>16798.050781</td>\n",
              "      <td>17187.099609</td>\n",
              "      <td>16747.699219</td>\n",
              "      <td>17094.349609</td>\n",
              "      <td>376100</td>\n",
              "      <td>0</td>\n",
              "      <td>0</td>\n",
              "    </tr>\n",
              "  </tbody>\n",
              "</table>\n",
              "<p>3685 rows × 7 columns</p>\n",
              "</div>\n",
              "      <button class=\"colab-df-convert\" onclick=\"convertToInteractive('df-c2ba7a25-c069-4356-86dc-b2049f0e4417')\"\n",
              "              title=\"Convert this dataframe to an interactive table.\"\n",
              "              style=\"display:none;\">\n",
              "        \n",
              "  <svg xmlns=\"http://www.w3.org/2000/svg\" height=\"24px\"viewBox=\"0 0 24 24\"\n",
              "       width=\"24px\">\n",
              "    <path d=\"M0 0h24v24H0V0z\" fill=\"none\"/>\n",
              "    <path d=\"M18.56 5.44l.94 2.06.94-2.06 2.06-.94-2.06-.94-.94-2.06-.94 2.06-2.06.94zm-11 1L8.5 8.5l.94-2.06 2.06-.94-2.06-.94L8.5 2.5l-.94 2.06-2.06.94zm10 10l.94 2.06.94-2.06 2.06-.94-2.06-.94-.94-2.06-.94 2.06-2.06.94z\"/><path d=\"M17.41 7.96l-1.37-1.37c-.4-.4-.92-.59-1.43-.59-.52 0-1.04.2-1.43.59L10.3 9.45l-7.72 7.72c-.78.78-.78 2.05 0 2.83L4 21.41c.39.39.9.59 1.41.59.51 0 1.02-.2 1.41-.59l7.78-7.78 2.81-2.81c.8-.78.8-2.07 0-2.86zM5.41 20L4 18.59l7.72-7.72 1.47 1.35L5.41 20z\"/>\n",
              "  </svg>\n",
              "      </button>\n",
              "      \n",
              "  <style>\n",
              "    .colab-df-container {\n",
              "      display:flex;\n",
              "      flex-wrap:wrap;\n",
              "      gap: 12px;\n",
              "    }\n",
              "\n",
              "    .colab-df-convert {\n",
              "      background-color: #E8F0FE;\n",
              "      border: none;\n",
              "      border-radius: 50%;\n",
              "      cursor: pointer;\n",
              "      display: none;\n",
              "      fill: #1967D2;\n",
              "      height: 32px;\n",
              "      padding: 0 0 0 0;\n",
              "      width: 32px;\n",
              "    }\n",
              "\n",
              "    .colab-df-convert:hover {\n",
              "      background-color: #E2EBFA;\n",
              "      box-shadow: 0px 1px 2px rgba(60, 64, 67, 0.3), 0px 1px 3px 1px rgba(60, 64, 67, 0.15);\n",
              "      fill: #174EA6;\n",
              "    }\n",
              "\n",
              "    [theme=dark] .colab-df-convert {\n",
              "      background-color: #3B4455;\n",
              "      fill: #D2E3FC;\n",
              "    }\n",
              "\n",
              "    [theme=dark] .colab-df-convert:hover {\n",
              "      background-color: #434B5C;\n",
              "      box-shadow: 0px 1px 3px 1px rgba(0, 0, 0, 0.15);\n",
              "      filter: drop-shadow(0px 1px 2px rgba(0, 0, 0, 0.3));\n",
              "      fill: #FFFFFF;\n",
              "    }\n",
              "  </style>\n",
              "\n",
              "      <script>\n",
              "        const buttonEl =\n",
              "          document.querySelector('#df-c2ba7a25-c069-4356-86dc-b2049f0e4417 button.colab-df-convert');\n",
              "        buttonEl.style.display =\n",
              "          google.colab.kernel.accessAllowed ? 'block' : 'none';\n",
              "\n",
              "        async function convertToInteractive(key) {\n",
              "          const element = document.querySelector('#df-c2ba7a25-c069-4356-86dc-b2049f0e4417');\n",
              "          const dataTable =\n",
              "            await google.colab.kernel.invokeFunction('convertToInteractive',\n",
              "                                                     [key], {});\n",
              "          if (!dataTable) return;\n",
              "\n",
              "          const docLinkHtml = 'Like what you see? Visit the ' +\n",
              "            '<a target=\"_blank\" href=https://colab.research.google.com/notebooks/data_table.ipynb>data table notebook</a>'\n",
              "            + ' to learn more about interactive tables.';\n",
              "          element.innerHTML = '';\n",
              "          dataTable['output_type'] = 'display_data';\n",
              "          await google.colab.output.renderOutput(dataTable, element);\n",
              "          const docLink = document.createElement('div');\n",
              "          docLink.innerHTML = docLinkHtml;\n",
              "          element.appendChild(docLink);\n",
              "        }\n",
              "      </script>\n",
              "    </div>\n",
              "  </div>\n",
              "  "
            ]
          },
          "metadata": {},
          "execution_count": 4
        }
      ]
    },
    {
      "cell_type": "code",
      "source": [
        "df=nse_historical.iloc[:,3]"
      ],
      "metadata": {
        "id": "GbRYooOW-S33"
      },
      "execution_count": 5,
      "outputs": []
    },
    {
      "cell_type": "code",
      "source": [
        "df.head()"
      ],
      "metadata": {
        "colab": {
          "base_uri": "https://localhost:8080/"
        },
        "id": "jNhQGRSr-V_f",
        "outputId": "4823d32a-1a1a-4de3-c3f5-e43d80e2f9c4"
      },
      "execution_count": 6,
      "outputs": [
        {
          "output_type": "execute_result",
          "data": {
            "text/plain": [
              "Date\n",
              "2007-09-17 00:00:00+05:30    4494.649902\n",
              "2007-09-18 00:00:00+05:30    4546.200195\n",
              "2007-09-19 00:00:00+05:30    4732.350098\n",
              "2007-09-20 00:00:00+05:30    4747.549805\n",
              "2007-09-21 00:00:00+05:30    4837.549805\n",
              "Name: Close, dtype: float64"
            ]
          },
          "metadata": {},
          "execution_count": 6
        }
      ]
    },
    {
      "cell_type": "code",
      "source": [
        "df.shape"
      ],
      "metadata": {
        "colab": {
          "base_uri": "https://localhost:8080/"
        },
        "id": "4V1Ov-6w-bcK",
        "outputId": "ce931166-43f0-4bab-a5e3-567633876110"
      },
      "execution_count": 7,
      "outputs": [
        {
          "output_type": "execute_result",
          "data": {
            "text/plain": [
              "(3685,)"
            ]
          },
          "metadata": {},
          "execution_count": 7
        }
      ]
    },
    {
      "cell_type": "code",
      "source": [
        "plt.plot(df)"
      ],
      "metadata": {
        "colab": {
          "base_uri": "https://localhost:8080/",
          "height": 282
        },
        "id": "w7Tr7d7C-dNV",
        "outputId": "0d03210b-2321-45b3-a5e1-dc45a3153695"
      },
      "execution_count": 8,
      "outputs": [
        {
          "output_type": "execute_result",
          "data": {
            "text/plain": [
              "[<matplotlib.lines.Line2D at 0x7f54d9fca7d0>]"
            ]
          },
          "metadata": {},
          "execution_count": 8
        },
        {
          "output_type": "display_data",
          "data": {
            "text/plain": [
              "<Figure size 432x288 with 1 Axes>"
            ],
            "image/png": "[encoded data removed]"
          },
          "metadata": {
            "needs_background": "light"
          }
        }
      ]
    },
    {
      "cell_type": "code",
      "source": [
        "from sklearn.preprocessing import MinMaxScaler\n",
        "scaler = MinMaxScaler()"
      ],
      "metadata": {
        "id": "d-33mSGW-fUM"
      },
      "execution_count": 9,
      "outputs": []
    },
    {
      "cell_type": "code",
      "source": [
        "df1=scaler.fit_transform(np.array(df).reshape(-1,1))"
      ],
      "metadata": {
        "id": "LnH2DGcZ-ivK"
      },
      "execution_count": 10,
      "outputs": []
    },
    {
      "cell_type": "code",
      "source": [
        "df1.shape"
      ],
      "metadata": {
        "colab": {
          "base_uri": "https://localhost:8080/"
        },
        "id": "Ot4Uvnl--kUU",
        "outputId": "151fdeb7-562e-451f-f110-38e5560a26cb"
      },
      "execution_count": 11,
      "outputs": [
        {
          "output_type": "execute_result",
          "data": {
            "text/plain": [
              "(3685, 1)"
            ]
          },
          "metadata": {},
          "execution_count": 11
        }
      ]
    },
    {
      "cell_type": "code",
      "source": [
        "train = int(len(df1)*0.63)\n",
        "test = len(df1)-train"
      ],
      "metadata": {
        "id": "rrUGYRsn-onz"
      },
      "execution_count": 12,
      "outputs": []
    },
    {
      "cell_type": "code",
      "source": [
        "train_data = df1[0:train,:]\n",
        "test_data = df1[train:len(df1),:]"
      ],
      "metadata": {
        "id": "B848DRB3-qdI"
      },
      "execution_count": 13,
      "outputs": []
    },
    {
      "cell_type": "code",
      "source": [
        "print(train_data.shape)\n",
        "print(test_data.shape)"
      ],
      "metadata": {
        "colab": {
          "base_uri": "https://localhost:8080/"
        },
        "id": "YGi15p-W-scK",
        "outputId": "bdea3271-7f7c-4e21-8645-abf1a9588687"
      },
      "execution_count": 14,
      "outputs": [
        {
          "output_type": "stream",
          "name": "stdout",
          "text": [
            "(2321, 1)\n",
            "(1364, 1)\n"
          ]
        }
      ]
    },
    {
      "cell_type": "code",
      "source": [
        "def inputoutput(data,steps):\n",
        "  x = []\n",
        "  y = []\n",
        "  for i in range(0,len(data)-steps-1):\n",
        "    a=data[i:(i+steps),0]\n",
        "    x.append(a)\n",
        "    y.append(data[i+steps,0])\n",
        "  return np.array(x) , np.array(y)"
      ],
      "metadata": {
        "id": "RUoe_7WF-udg"
      },
      "execution_count": 15,
      "outputs": []
    },
    {
      "cell_type": "code",
      "source": [
        "steps = 45\n",
        "x_train , y_train=inputoutput(train_data,steps)\n",
        "x_test , y_test=inputoutput(test_data,steps)"
      ],
      "metadata": {
        "id": "8SMBVo7H-xMO"
      },
      "execution_count": 16,
      "outputs": []
    },
    {
      "cell_type": "code",
      "source": [
        "print(x_train.shape)\n",
        "print(y_train.shape)"
      ],
      "metadata": {
        "colab": {
          "base_uri": "https://localhost:8080/"
        },
        "id": "M8CsFCbK-zPA",
        "outputId": "af5b3bfa-9408-4d88-f1a4-0e8435caec04"
      },
      "execution_count": 17,
      "outputs": [
        {
          "output_type": "stream",
          "name": "stdout",
          "text": [
            "(2275, 45)\n",
            "(2275,)\n"
          ]
        }
      ]
    },
    {
      "cell_type": "code",
      "source": [
        "x_train=x_train.reshape(x_train.shape[0],x_train.shape[1],1)\n",
        "print(x_train.shape)"
      ],
      "metadata": {
        "colab": {
          "base_uri": "https://localhost:8080/"
        },
        "id": "0C-tbO86-220",
        "outputId": "406c7f52-d220-459f-c876-72ee007110b9"
      },
      "execution_count": 18,
      "outputs": [
        {
          "output_type": "stream",
          "name": "stdout",
          "text": [
            "(2275, 45, 1)\n"
          ]
        }
      ]
    },
    {
      "cell_type": "code",
      "source": [
        "x_test=x_test.reshape(x_test.shape[0],x_test.shape[1],1)\n",
        "print(x_test.shape)"
      ],
      "metadata": {
        "colab": {
          "base_uri": "https://localhost:8080/"
        },
        "id": "QNEuNTM0-4xq",
        "outputId": "5088c017-eac1-4d2e-ff66-5bb560164f46"
      },
      "execution_count": 19,
      "outputs": [
        {
          "output_type": "stream",
          "name": "stdout",
          "text": [
            "(1318, 45, 1)\n"
          ]
        }
      ]
    },
    {
      "cell_type": "code",
      "source": [
        "from tensorflow.keras.models import Sequential\n",
        "from tensorflow.keras.layers import Dense\n",
        "from tensorflow.keras.layers import SimpleRNN\n",
        "from tensorflow.keras.layers import LSTM"
      ],
      "metadata": {
        "id": "ZeDBuKkL-6tV"
      },
      "execution_count": 20,
      "outputs": []
    },
    {
      "cell_type": "markdown",
      "source": [
        "RNN Model"
      ],
      "metadata": {
        "id": "sbrwFtG6IQAr"
      }
    },
    {
      "cell_type": "code",
      "source": [
        "model = Sequential()\n",
        "model.add(SimpleRNN(32,return_sequences=True, input_shape=(45,1)))\n",
        "model.add(SimpleRNN(64,return_sequences=True))\n",
        "model.add(SimpleRNN(50))\n",
        "model.add(Dense(1))\n",
        "model.compile(loss='mean_squared_error',optimizer='adam',metrics=['mean_absolute_error'])"
      ],
      "metadata": {
        "id": "GyLw6erh-83C"
      },
      "execution_count": 21,
      "outputs": []
    },
    {
      "cell_type": "code",
      "source": [
        "model.summary()"
      ],
      "metadata": {
        "colab": {
          "base_uri": "https://localhost:8080/"
        },
        "id": "nlRCiqRX-_XH",
        "outputId": "d65a83fc-f2cf-4d4e-ae76-f59d8de3908e"
      },
      "execution_count": 22,
      "outputs": [
        {
          "output_type": "stream",
          "name": "stdout",
          "text": [
            "Model: \"sequential\"\n",
            "_________________________________________________________________\n",
            " Layer (type)                Output Shape              Param #   \n",
            "=================================================================\n",
            " simple_rnn (SimpleRNN)      (None, 45, 32)            1088      \n",
            "                                                                 \n",
            " simple_rnn_1 (SimpleRNN)    (None, 45, 64)            6208      \n",
            "                                                                 \n",
            " simple_rnn_2 (SimpleRNN)    (None, 50)                5750      \n",
            "                                                                 \n",
            " dense (Dense)               (None, 1)                 51        \n",
            "                                                                 \n",
            "=================================================================\n",
            "Total params: 13,097\n",
            "Trainable params: 13,097\n",
            "Non-trainable params: 0\n",
            "_________________________________________________________________\n"
          ]
        }
      ]
    },
    {
      "cell_type": "code",
      "source": [
        "model.fit(x_train,y_train,validation_data=(x_test,y_test),epochs=55,batch_size=64)"
      ],
      "metadata": {
        "colab": {
          "base_uri": "https://localhost:8080/"
        },
        "id": "wdSIp5lM_A2T",
        "outputId": "1ccae3be-e94e-41ee-84c3-7e74c3aa1241"
      },
      "execution_count": 23,
      "outputs": [
        {
          "output_type": "stream",
          "name": "stdout",
          "text": [
            "Epoch 1/55\n",
            "36/36 [==============================] - 5s 58ms/step - loss: 0.0517 - mean_absolute_error: 0.1519 - val_loss: 0.1532 - val_mean_absolute_error: 0.3553\n",
            "Epoch 2/55\n",
            "36/36 [==============================] - 2s 42ms/step - loss: 0.0014 - mean_absolute_error: 0.0270 - val_loss: 0.0535 - val_mean_absolute_error: 0.1824\n",
            "Epoch 3/55\n",
            "36/36 [==============================] - 2s 42ms/step - loss: 4.1949e-04 - mean_absolute_error: 0.0157 - val_loss: 0.0526 - val_mean_absolute_error: 0.1822\n",
            "Epoch 4/55\n",
            "36/36 [==============================] - 2s 43ms/step - loss: 3.1962e-04 - mean_absolute_error: 0.0140 - val_loss: 0.0456 - val_mean_absolute_error: 0.1653\n",
            "Epoch 5/55\n",
            "36/36 [==============================] - 1s 41ms/step - loss: 2.7643e-04 - mean_absolute_error: 0.0131 - val_loss: 0.0429 - val_mean_absolute_error: 0.1596\n",
            "Epoch 6/55\n",
            "36/36 [==============================] - 2s 43ms/step - loss: 2.4391e-04 - mean_absolute_error: 0.0123 - val_loss: 0.0425 - val_mean_absolute_error: 0.1610\n",
            "Epoch 7/55\n",
            "36/36 [==============================] - 1s 42ms/step - loss: 2.1558e-04 - mean_absolute_error: 0.0116 - val_loss: 0.0382 - val_mean_absolute_error: 0.1502\n",
            "Epoch 8/55\n",
            "36/36 [==============================] - 2s 42ms/step - loss: 2.0109e-04 - mean_absolute_error: 0.0111 - val_loss: 0.0368 - val_mean_absolute_error: 0.1482\n",
            "Epoch 9/55\n",
            "36/36 [==============================] - 1s 41ms/step - loss: 1.8250e-04 - mean_absolute_error: 0.0106 - val_loss: 0.0325 - val_mean_absolute_error: 0.1362\n",
            "Epoch 10/55\n",
            "36/36 [==============================] - 1s 41ms/step - loss: 1.8702e-04 - mean_absolute_error: 0.0108 - val_loss: 0.0314 - val_mean_absolute_error: 0.1348\n",
            "Epoch 11/55\n",
            "36/36 [==============================] - 1s 41ms/step - loss: 1.7787e-04 - mean_absolute_error: 0.0105 - val_loss: 0.0296 - val_mean_absolute_error: 0.1308\n",
            "Epoch 12/55\n",
            "36/36 [==============================] - 2s 43ms/step - loss: 1.5026e-04 - mean_absolute_error: 0.0097 - val_loss: 0.0290 - val_mean_absolute_error: 0.1313\n",
            "Epoch 13/55\n",
            "36/36 [==============================] - 2s 43ms/step - loss: 1.3387e-04 - mean_absolute_error: 0.0091 - val_loss: 0.0258 - val_mean_absolute_error: 0.1211\n",
            "Epoch 14/55\n",
            "36/36 [==============================] - 2s 63ms/step - loss: 1.2779e-04 - mean_absolute_error: 0.0088 - val_loss: 0.0233 - val_mean_absolute_error: 0.1127\n",
            "Epoch 15/55\n",
            "36/36 [==============================] - 2s 62ms/step - loss: 1.4093e-04 - mean_absolute_error: 0.0093 - val_loss: 0.0232 - val_mean_absolute_error: 0.1150\n",
            "Epoch 16/55\n",
            "36/36 [==============================] - 2s 46ms/step - loss: 1.1023e-04 - mean_absolute_error: 0.0082 - val_loss: 0.0233 - val_mean_absolute_error: 0.1176\n",
            "Epoch 17/55\n",
            "36/36 [==============================] - 2s 42ms/step - loss: 1.1064e-04 - mean_absolute_error: 0.0082 - val_loss: 0.0211 - val_mean_absolute_error: 0.1103\n",
            "Epoch 18/55\n",
            "36/36 [==============================] - 2s 42ms/step - loss: 9.6988e-05 - mean_absolute_error: 0.0076 - val_loss: 0.0191 - val_mean_absolute_error: 0.1033\n",
            "Epoch 19/55\n",
            "36/36 [==============================] - 2s 42ms/step - loss: 9.4632e-05 - mean_absolute_error: 0.0075 - val_loss: 0.0181 - val_mean_absolute_error: 0.0998\n",
            "Epoch 20/55\n",
            "36/36 [==============================] - 2s 42ms/step - loss: 9.7459e-05 - mean_absolute_error: 0.0077 - val_loss: 0.0165 - val_mean_absolute_error: 0.0941\n",
            "Epoch 21/55\n",
            "36/36 [==============================] - 2s 42ms/step - loss: 8.9137e-05 - mean_absolute_error: 0.0073 - val_loss: 0.0161 - val_mean_absolute_error: 0.0937\n",
            "Epoch 22/55\n",
            "36/36 [==============================] - 1s 42ms/step - loss: 8.4234e-05 - mean_absolute_error: 0.0071 - val_loss: 0.0159 - val_mean_absolute_error: 0.0948\n",
            "Epoch 23/55\n",
            "36/36 [==============================] - 2s 42ms/step - loss: 8.5823e-05 - mean_absolute_error: 0.0071 - val_loss: 0.0144 - val_mean_absolute_error: 0.0885\n",
            "Epoch 24/55\n",
            "36/36 [==============================] - 2s 43ms/step - loss: 7.4137e-05 - mean_absolute_error: 0.0066 - val_loss: 0.0130 - val_mean_absolute_error: 0.0818\n",
            "Epoch 25/55\n",
            "36/36 [==============================] - 2s 42ms/step - loss: 8.2069e-05 - mean_absolute_error: 0.0070 - val_loss: 0.0141 - val_mean_absolute_error: 0.0896\n",
            "Epoch 26/55\n",
            "36/36 [==============================] - 1s 42ms/step - loss: 6.7616e-05 - mean_absolute_error: 0.0064 - val_loss: 0.0125 - val_mean_absolute_error: 0.0820\n",
            "Epoch 27/55\n",
            "36/36 [==============================] - 2s 42ms/step - loss: 7.3882e-05 - mean_absolute_error: 0.0067 - val_loss: 0.0122 - val_mean_absolute_error: 0.0817\n",
            "Epoch 28/55\n",
            "36/36 [==============================] - 2s 42ms/step - loss: 7.2885e-05 - mean_absolute_error: 0.0066 - val_loss: 0.0105 - val_mean_absolute_error: 0.0722\n",
            "Epoch 29/55\n",
            "36/36 [==============================] - 1s 41ms/step - loss: 6.4715e-05 - mean_absolute_error: 0.0063 - val_loss: 0.0109 - val_mean_absolute_error: 0.0762\n",
            "Epoch 30/55\n",
            "36/36 [==============================] - 1s 42ms/step - loss: 6.8729e-05 - mean_absolute_error: 0.0065 - val_loss: 0.0113 - val_mean_absolute_error: 0.0797\n",
            "Epoch 31/55\n",
            "36/36 [==============================] - 2s 43ms/step - loss: 7.4485e-05 - mean_absolute_error: 0.0068 - val_loss: 0.0096 - val_mean_absolute_error: 0.0698\n",
            "Epoch 32/55\n",
            "36/36 [==============================] - 1s 41ms/step - loss: 8.0529e-05 - mean_absolute_error: 0.0070 - val_loss: 0.0098 - val_mean_absolute_error: 0.0716\n",
            "Epoch 33/55\n",
            "36/36 [==============================] - 2s 42ms/step - loss: 6.3052e-05 - mean_absolute_error: 0.0061 - val_loss: 0.0093 - val_mean_absolute_error: 0.0696\n",
            "Epoch 34/55\n",
            "36/36 [==============================] - 1s 41ms/step - loss: 6.2265e-05 - mean_absolute_error: 0.0061 - val_loss: 0.0083 - val_mean_absolute_error: 0.0631\n",
            "Epoch 35/55\n",
            "36/36 [==============================] - 2s 42ms/step - loss: 6.6591e-05 - mean_absolute_error: 0.0064 - val_loss: 0.0098 - val_mean_absolute_error: 0.0745\n",
            "Epoch 36/55\n",
            "36/36 [==============================] - 2s 42ms/step - loss: 7.9028e-05 - mean_absolute_error: 0.0070 - val_loss: 0.0093 - val_mean_absolute_error: 0.0724\n",
            "Epoch 37/55\n",
            "36/36 [==============================] - 2s 42ms/step - loss: 9.1748e-05 - mean_absolute_error: 0.0076 - val_loss: 0.0101 - val_mean_absolute_error: 0.0772\n",
            "Epoch 38/55\n",
            "36/36 [==============================] - 2s 43ms/step - loss: 8.8224e-05 - mean_absolute_error: 0.0075 - val_loss: 0.0084 - val_mean_absolute_error: 0.0660\n",
            "Epoch 39/55\n",
            "36/36 [==============================] - 2s 42ms/step - loss: 5.5106e-05 - mean_absolute_error: 0.0057 - val_loss: 0.0078 - val_mean_absolute_error: 0.0631\n",
            "Epoch 40/55\n",
            "36/36 [==============================] - 2s 42ms/step - loss: 5.5941e-05 - mean_absolute_error: 0.0058 - val_loss: 0.0070 - val_mean_absolute_error: 0.0578\n",
            "Epoch 41/55\n",
            "36/36 [==============================] - 2s 42ms/step - loss: 5.0091e-05 - mean_absolute_error: 0.0055 - val_loss: 0.0083 - val_mean_absolute_error: 0.0685\n",
            "Epoch 42/55\n",
            "36/36 [==============================] - 1s 41ms/step - loss: 6.0428e-05 - mean_absolute_error: 0.0061 - val_loss: 0.0068 - val_mean_absolute_error: 0.0578\n",
            "Epoch 43/55\n",
            "36/36 [==============================] - 2s 42ms/step - loss: 4.9324e-05 - mean_absolute_error: 0.0054 - val_loss: 0.0063 - val_mean_absolute_error: 0.0544\n",
            "Epoch 44/55\n",
            "36/36 [==============================] - 2s 42ms/step - loss: 4.6925e-05 - mean_absolute_error: 0.0053 - val_loss: 0.0063 - val_mean_absolute_error: 0.0549\n",
            "Epoch 45/55\n",
            "36/36 [==============================] - 2s 45ms/step - loss: 6.1333e-05 - mean_absolute_error: 0.0061 - val_loss: 0.0079 - val_mean_absolute_error: 0.0675\n",
            "Epoch 46/55\n",
            "36/36 [==============================] - 2s 42ms/step - loss: 5.3278e-05 - mean_absolute_error: 0.0057 - val_loss: 0.0071 - val_mean_absolute_error: 0.0615\n",
            "Epoch 47/55\n",
            "36/36 [==============================] - 2s 43ms/step - loss: 6.2747e-05 - mean_absolute_error: 0.0062 - val_loss: 0.0067 - val_mean_absolute_error: 0.0593\n",
            "Epoch 48/55\n",
            "36/36 [==============================] - 2s 42ms/step - loss: 5.7513e-05 - mean_absolute_error: 0.0059 - val_loss: 0.0064 - val_mean_absolute_error: 0.0573\n",
            "Epoch 49/55\n",
            "36/36 [==============================] - 2s 57ms/step - loss: 5.8955e-05 - mean_absolute_error: 0.0060 - val_loss: 0.0055 - val_mean_absolute_error: 0.0501\n",
            "Epoch 50/55\n",
            "36/36 [==============================] - 2s 44ms/step - loss: 4.9574e-05 - mean_absolute_error: 0.0055 - val_loss: 0.0063 - val_mean_absolute_error: 0.0578\n",
            "Epoch 51/55\n",
            "36/36 [==============================] - 2s 43ms/step - loss: 5.9418e-05 - mean_absolute_error: 0.0060 - val_loss: 0.0057 - val_mean_absolute_error: 0.0525\n",
            "Epoch 52/55\n",
            "36/36 [==============================] - 2s 45ms/step - loss: 5.5343e-05 - mean_absolute_error: 0.0058 - val_loss: 0.0069 - val_mean_absolute_error: 0.0627\n",
            "Epoch 53/55\n",
            "36/36 [==============================] - 2s 45ms/step - loss: 5.8172e-05 - mean_absolute_error: 0.0060 - val_loss: 0.0051 - val_mean_absolute_error: 0.0485\n",
            "Epoch 54/55\n",
            "36/36 [==============================] - 2s 44ms/step - loss: 1.1697e-04 - mean_absolute_error: 0.0089 - val_loss: 0.0068 - val_mean_absolute_error: 0.0619\n",
            "Epoch 55/55\n",
            "36/36 [==============================] - 2s 44ms/step - loss: 5.4407e-05 - mean_absolute_error: 0.0058 - val_loss: 0.0063 - val_mean_absolute_error: 0.0583\n"
          ]
        },
        {
          "output_type": "execute_result",
          "data": {
            "text/plain": [
              "<keras.callbacks.History at 0x7f547f668e10>"
            ]
          },
          "metadata": {},
          "execution_count": 23
        }
      ]
    },
    {
      "cell_type": "code",
      "source": [
        "train_predict = model.predict(x_train)\n",
        "test_predict = model.predict(x_test)"
      ],
      "metadata": {
        "colab": {
          "base_uri": "https://localhost:8080/"
        },
        "id": "AHomIiJb_Dik",
        "outputId": "16169309-537a-442b-937c-29ecb9076ed4"
      },
      "execution_count": 24,
      "outputs": [
        {
          "output_type": "stream",
          "name": "stdout",
          "text": [
            "72/72 [==============================] - 1s 9ms/step\n",
            "42/42 [==============================] - 0s 10ms/step\n"
          ]
        }
      ]
    },
    {
      "cell_type": "code",
      "source": [
        "train_predict = scaler.inverse_transform(train_predict)\n",
        "test_predict = scaler.inverse_transform(test_predict)"
      ],
      "metadata": {
        "id": "LpqM6CDC_pDz"
      },
      "execution_count": 26,
      "outputs": []
    },
    {
      "cell_type": "code",
      "source": [
        "plt.plot(test_predict)\n",
        "plt.plot(y_test)\n",
        "plt.xlabel('Time')\n",
        "plt.ylabel('Price')\n",
        "plt.legend(['RNN','Original Price'])"
      ],
      "metadata": {
        "colab": {
          "base_uri": "https://localhost:8080/",
          "height": 296
        },
        "id": "gbvsytsI_rsb",
        "outputId": "d16c70be-b0ee-49cd-a07d-a0c11806d3a5"
      },
      "execution_count": 64,
      "outputs": [
        {
          "output_type": "execute_result",
          "data": {
            "text/plain": [
              "<matplotlib.legend.Legend at 0x7f5473eece10>"
            ]
          },
          "metadata": {},
          "execution_count": 64
        },
        {
          "output_type": "display_data",
          "data": {
            "text/plain": [
              "<Figure size 432x288 with 1 Axes>"
            ],
            "image/png": "[encoded data removed]"
          },
          "metadata": {
            "needs_background": "light"
          }
        }
      ]
    },
    {
      "cell_type": "markdown",
      "source": [
        "LSTM model"
      ],
      "metadata": {
        "id": "CHPrcctSIo0G"
      }
    },
    {
      "cell_type": "code",
      "source": [
        "model1 = Sequential()\n",
        "model1.add(LSTM(32,return_sequences=True, input_shape=(45,1)))\n",
        "model1.add(LSTM(64,return_sequences=True))\n",
        "model1.add(LSTM(50))\n",
        "model1.add(Dense(1))\n",
        "model1.compile(loss='mean_squared_error',optimizer='adam',metrics=['mean_absolute_error'])"
      ],
      "metadata": {
        "id": "9vnddB8n_6PQ"
      },
      "execution_count": 31,
      "outputs": []
    },
    {
      "cell_type": "code",
      "source": [
        "model1.summary()"
      ],
      "metadata": {
        "colab": {
          "base_uri": "https://localhost:8080/"
        },
        "id": "7fj4hVn9APV7",
        "outputId": "f6e2bb01-1cca-4066-9bd5-306150312d90"
      },
      "execution_count": 32,
      "outputs": [
        {
          "output_type": "stream",
          "name": "stdout",
          "text": [
            "Model: \"sequential_1\"\n",
            "_________________________________________________________________\n",
            " Layer (type)                Output Shape              Param #   \n",
            "=================================================================\n",
            " lstm (LSTM)                 (None, 45, 32)            4352      \n",
            "                                                                 \n",
            " lstm_1 (LSTM)               (None, 45, 64)            24832     \n",
            "                                                                 \n",
            " lstm_2 (LSTM)               (None, 50)                23000     \n",
            "                                                                 \n",
            " dense_1 (Dense)             (None, 1)                 51        \n",
            "                                                                 \n",
            "=================================================================\n",
            "Total params: 52,235\n",
            "Trainable params: 52,235\n",
            "Non-trainable params: 0\n",
            "_________________________________________________________________\n"
          ]
        }
      ]
    },
    {
      "cell_type": "code",
      "source": [
        "model1.fit(x_train,y_train,validation_data=(x_test,y_test),epochs=55,batch_size=64)"
      ],
      "metadata": {
        "colab": {
          "base_uri": "https://localhost:8080/"
        },
        "id": "SNuHkv_YASMQ",
        "outputId": "a8c6d819-d8e1-4ca9-9d4c-8b1583bb2f99"
      },
      "execution_count": 33,
      "outputs": [
        {
          "output_type": "stream",
          "name": "stdout",
          "text": [
            "Epoch 1/55\n",
            "36/36 [==============================] - 12s 162ms/step - loss: 0.0088 - mean_absolute_error: 0.0645 - val_loss: 0.0183 - val_mean_absolute_error: 0.1251\n",
            "Epoch 2/55\n",
            "36/36 [==============================] - 4s 108ms/step - loss: 3.4444e-04 - mean_absolute_error: 0.0144 - val_loss: 9.0925e-04 - val_mean_absolute_error: 0.0204\n",
            "Epoch 3/55\n",
            "36/36 [==============================] - 4s 107ms/step - loss: 1.9077e-04 - mean_absolute_error: 0.0108 - val_loss: 9.3980e-04 - val_mean_absolute_error: 0.0207\n",
            "Epoch 4/55\n",
            "36/36 [==============================] - 4s 109ms/step - loss: 1.8206e-04 - mean_absolute_error: 0.0106 - val_loss: 9.5112e-04 - val_mean_absolute_error: 0.0210\n",
            "Epoch 5/55\n",
            "36/36 [==============================] - 4s 108ms/step - loss: 1.8399e-04 - mean_absolute_error: 0.0106 - val_loss: 9.0626e-04 - val_mean_absolute_error: 0.0209\n",
            "Epoch 6/55\n",
            "36/36 [==============================] - 4s 108ms/step - loss: 1.8100e-04 - mean_absolute_error: 0.0105 - val_loss: 6.9929e-04 - val_mean_absolute_error: 0.0180\n",
            "Epoch 7/55\n",
            "36/36 [==============================] - 5s 138ms/step - loss: 1.7047e-04 - mean_absolute_error: 0.0102 - val_loss: 6.4009e-04 - val_mean_absolute_error: 0.0175\n",
            "Epoch 8/55\n",
            "36/36 [==============================] - 5s 139ms/step - loss: 1.6711e-04 - mean_absolute_error: 0.0101 - val_loss: 6.3232e-04 - val_mean_absolute_error: 0.0174\n",
            "Epoch 9/55\n",
            "36/36 [==============================] - 4s 108ms/step - loss: 1.7170e-04 - mean_absolute_error: 0.0102 - val_loss: 6.1883e-04 - val_mean_absolute_error: 0.0170\n",
            "Epoch 10/55\n",
            "36/36 [==============================] - 4s 110ms/step - loss: 1.6023e-04 - mean_absolute_error: 0.0098 - val_loss: 7.3147e-04 - val_mean_absolute_error: 0.0201\n",
            "Epoch 11/55\n",
            "36/36 [==============================] - 4s 108ms/step - loss: 1.5375e-04 - mean_absolute_error: 0.0097 - val_loss: 6.1023e-04 - val_mean_absolute_error: 0.0175\n",
            "Epoch 12/55\n",
            "36/36 [==============================] - 4s 110ms/step - loss: 1.5125e-04 - mean_absolute_error: 0.0096 - val_loss: 7.1429e-04 - val_mean_absolute_error: 0.0198\n",
            "Epoch 13/55\n",
            "36/36 [==============================] - 4s 109ms/step - loss: 1.4903e-04 - mean_absolute_error: 0.0096 - val_loss: 6.1311e-04 - val_mean_absolute_error: 0.0175\n",
            "Epoch 14/55\n",
            "36/36 [==============================] - 4s 109ms/step - loss: 1.5148e-04 - mean_absolute_error: 0.0097 - val_loss: 5.5515e-04 - val_mean_absolute_error: 0.0168\n",
            "Epoch 15/55\n",
            "36/36 [==============================] - 4s 106ms/step - loss: 1.3676e-04 - mean_absolute_error: 0.0091 - val_loss: 8.6751e-04 - val_mean_absolute_error: 0.0224\n",
            "Epoch 16/55\n",
            "36/36 [==============================] - 4s 110ms/step - loss: 1.3483e-04 - mean_absolute_error: 0.0090 - val_loss: 4.7997e-04 - val_mean_absolute_error: 0.0152\n",
            "Epoch 17/55\n",
            "36/36 [==============================] - 4s 113ms/step - loss: 1.4062e-04 - mean_absolute_error: 0.0093 - val_loss: 7.3878e-04 - val_mean_absolute_error: 0.0208\n",
            "Epoch 18/55\n",
            "36/36 [==============================] - 4s 112ms/step - loss: 1.3013e-04 - mean_absolute_error: 0.0089 - val_loss: 4.6012e-04 - val_mean_absolute_error: 0.0150\n",
            "Epoch 19/55\n",
            "36/36 [==============================] - 4s 126ms/step - loss: 1.3241e-04 - mean_absolute_error: 0.0091 - val_loss: 6.6909e-04 - val_mean_absolute_error: 0.0197\n",
            "Epoch 20/55\n",
            "36/36 [==============================] - 4s 111ms/step - loss: 1.3061e-04 - mean_absolute_error: 0.0089 - val_loss: 4.5861e-04 - val_mean_absolute_error: 0.0153\n",
            "Epoch 21/55\n",
            "36/36 [==============================] - 4s 114ms/step - loss: 1.2961e-04 - mean_absolute_error: 0.0089 - val_loss: 4.4112e-04 - val_mean_absolute_error: 0.0150\n",
            "Epoch 22/55\n",
            "36/36 [==============================] - 4s 114ms/step - loss: 1.2199e-04 - mean_absolute_error: 0.0086 - val_loss: 5.2487e-04 - val_mean_absolute_error: 0.0168\n",
            "Epoch 23/55\n",
            "36/36 [==============================] - 5s 133ms/step - loss: 1.1497e-04 - mean_absolute_error: 0.0084 - val_loss: 6.1076e-04 - val_mean_absolute_error: 0.0188\n",
            "Epoch 24/55\n",
            "36/36 [==============================] - 5s 125ms/step - loss: 1.1717e-04 - mean_absolute_error: 0.0084 - val_loss: 4.2734e-04 - val_mean_absolute_error: 0.0149\n",
            "Epoch 25/55\n",
            "36/36 [==============================] - 5s 140ms/step - loss: 1.1554e-04 - mean_absolute_error: 0.0084 - val_loss: 6.1424e-04 - val_mean_absolute_error: 0.0190\n",
            "Epoch 26/55\n",
            "36/36 [==============================] - 4s 113ms/step - loss: 1.1883e-04 - mean_absolute_error: 0.0085 - val_loss: 9.8568e-04 - val_mean_absolute_error: 0.0252\n",
            "Epoch 27/55\n",
            "36/36 [==============================] - 4s 112ms/step - loss: 1.2003e-04 - mean_absolute_error: 0.0085 - val_loss: 4.8355e-04 - val_mean_absolute_error: 0.0162\n",
            "Epoch 28/55\n",
            "36/36 [==============================] - 4s 111ms/step - loss: 1.1169e-04 - mean_absolute_error: 0.0082 - val_loss: 7.3631e-04 - val_mean_absolute_error: 0.0210\n",
            "Epoch 29/55\n",
            "36/36 [==============================] - 4s 112ms/step - loss: 1.1257e-04 - mean_absolute_error: 0.0083 - val_loss: 8.5923e-04 - val_mean_absolute_error: 0.0232\n",
            "Epoch 30/55\n",
            "36/36 [==============================] - 4s 112ms/step - loss: 1.0671e-04 - mean_absolute_error: 0.0080 - val_loss: 6.8119e-04 - val_mean_absolute_error: 0.0197\n",
            "Epoch 31/55\n",
            "36/36 [==============================] - 4s 113ms/step - loss: 1.0087e-04 - mean_absolute_error: 0.0077 - val_loss: 3.6085e-04 - val_mean_absolute_error: 0.0139\n",
            "Epoch 32/55\n",
            "36/36 [==============================] - 4s 113ms/step - loss: 9.8271e-05 - mean_absolute_error: 0.0076 - val_loss: 4.8435e-04 - val_mean_absolute_error: 0.0162\n",
            "Epoch 33/55\n",
            "36/36 [==============================] - 4s 113ms/step - loss: 9.7934e-05 - mean_absolute_error: 0.0076 - val_loss: 4.8076e-04 - val_mean_absolute_error: 0.0164\n",
            "Epoch 34/55\n",
            "36/36 [==============================] - 4s 112ms/step - loss: 9.8067e-05 - mean_absolute_error: 0.0076 - val_loss: 5.5433e-04 - val_mean_absolute_error: 0.0178\n",
            "Epoch 35/55\n",
            "36/36 [==============================] - 4s 113ms/step - loss: 9.5429e-05 - mean_absolute_error: 0.0075 - val_loss: 4.7939e-04 - val_mean_absolute_error: 0.0165\n",
            "Epoch 36/55\n",
            "36/36 [==============================] - 4s 115ms/step - loss: 9.7922e-05 - mean_absolute_error: 0.0077 - val_loss: 3.5878e-04 - val_mean_absolute_error: 0.0142\n",
            "Epoch 37/55\n",
            "36/36 [==============================] - 4s 115ms/step - loss: 9.8012e-05 - mean_absolute_error: 0.0077 - val_loss: 4.0148e-04 - val_mean_absolute_error: 0.0148\n",
            "Epoch 38/55\n",
            "36/36 [==============================] - 4s 114ms/step - loss: 9.0388e-05 - mean_absolute_error: 0.0073 - val_loss: 4.1517e-04 - val_mean_absolute_error: 0.0153\n",
            "Epoch 39/55\n",
            "36/36 [==============================] - 4s 121ms/step - loss: 1.0060e-04 - mean_absolute_error: 0.0078 - val_loss: 3.6895e-04 - val_mean_absolute_error: 0.0146\n",
            "Epoch 40/55\n",
            "36/36 [==============================] - 5s 135ms/step - loss: 1.0375e-04 - mean_absolute_error: 0.0078 - val_loss: 6.2438e-04 - val_mean_absolute_error: 0.0194\n",
            "Epoch 41/55\n",
            "36/36 [==============================] - 4s 111ms/step - loss: 9.7491e-05 - mean_absolute_error: 0.0077 - val_loss: 6.3822e-04 - val_mean_absolute_error: 0.0196\n",
            "Epoch 42/55\n",
            "36/36 [==============================] - 4s 112ms/step - loss: 8.4851e-05 - mean_absolute_error: 0.0071 - val_loss: 6.0301e-04 - val_mean_absolute_error: 0.0191\n",
            "Epoch 43/55\n",
            "36/36 [==============================] - 4s 109ms/step - loss: 9.0399e-05 - mean_absolute_error: 0.0073 - val_loss: 4.9451e-04 - val_mean_absolute_error: 0.0169\n",
            "Epoch 44/55\n",
            "36/36 [==============================] - 4s 112ms/step - loss: 8.2529e-05 - mean_absolute_error: 0.0070 - val_loss: 8.4941e-04 - val_mean_absolute_error: 0.0234\n",
            "Epoch 45/55\n",
            "36/36 [==============================] - 4s 112ms/step - loss: 8.9058e-05 - mean_absolute_error: 0.0073 - val_loss: 3.1496e-04 - val_mean_absolute_error: 0.0130\n",
            "Epoch 46/55\n",
            "36/36 [==============================] - 4s 114ms/step - loss: 7.9660e-05 - mean_absolute_error: 0.0069 - val_loss: 8.4321e-04 - val_mean_absolute_error: 0.0237\n",
            "Epoch 47/55\n",
            "36/36 [==============================] - 4s 114ms/step - loss: 9.3953e-05 - mean_absolute_error: 0.0075 - val_loss: 3.0829e-04 - val_mean_absolute_error: 0.0131\n",
            "Epoch 48/55\n",
            "36/36 [==============================] - 4s 110ms/step - loss: 7.6035e-05 - mean_absolute_error: 0.0067 - val_loss: 2.5635e-04 - val_mean_absolute_error: 0.0116\n",
            "Epoch 49/55\n",
            "36/36 [==============================] - 4s 111ms/step - loss: 7.6773e-05 - mean_absolute_error: 0.0068 - val_loss: 3.1402e-04 - val_mean_absolute_error: 0.0134\n",
            "Epoch 50/55\n",
            "36/36 [==============================] - 4s 110ms/step - loss: 7.9478e-05 - mean_absolute_error: 0.0069 - val_loss: 4.0898e-04 - val_mean_absolute_error: 0.0156\n",
            "Epoch 51/55\n",
            "36/36 [==============================] - 5s 138ms/step - loss: 7.3008e-05 - mean_absolute_error: 0.0066 - val_loss: 2.2364e-04 - val_mean_absolute_error: 0.0108\n",
            "Epoch 52/55\n",
            "36/36 [==============================] - 4s 112ms/step - loss: 7.1656e-05 - mean_absolute_error: 0.0065 - val_loss: 2.4912e-04 - val_mean_absolute_error: 0.0115\n",
            "Epoch 53/55\n",
            "36/36 [==============================] - 4s 112ms/step - loss: 6.8520e-05 - mean_absolute_error: 0.0064 - val_loss: 0.0010 - val_mean_absolute_error: 0.0267\n",
            "Epoch 54/55\n",
            "36/36 [==============================] - 4s 113ms/step - loss: 7.2445e-05 - mean_absolute_error: 0.0066 - val_loss: 2.2821e-04 - val_mean_absolute_error: 0.0111\n",
            "Epoch 55/55\n",
            "36/36 [==============================] - 4s 111ms/step - loss: 7.9463e-05 - mean_absolute_error: 0.0069 - val_loss: 2.2173e-04 - val_mean_absolute_error: 0.0110\n"
          ]
        },
        {
          "output_type": "execute_result",
          "data": {
            "text/plain": [
              "<keras.callbacks.History at 0x7f547acabad0>"
            ]
          },
          "metadata": {},
          "execution_count": 33
        }
      ]
    },
    {
      "cell_type": "code",
      "source": [
        "train_predict1 = model1.predict(x_train)\n",
        "test_predict1 = model1.predict(x_test)"
      ],
      "metadata": {
        "colab": {
          "base_uri": "https://localhost:8080/"
        },
        "id": "IzHpEV4OAUyt",
        "outputId": "1f94a95f-dd1f-432e-9cbc-c0b13abdbcbf"
      },
      "execution_count": 34,
      "outputs": [
        {
          "output_type": "stream",
          "name": "stdout",
          "text": [
            "72/72 [==============================] - 4s 21ms/step\n",
            "42/42 [==============================] - 1s 21ms/step\n"
          ]
        }
      ]
    },
    {
      "cell_type": "code",
      "source": [
        "train_predict1 = scaler.inverse_transform(train_predict1)\n",
        "test_predict1 = scaler.inverse_transform(test_predict1)"
      ],
      "metadata": {
        "id": "_8LR6AgHBbvk"
      },
      "execution_count": 35,
      "outputs": []
    },
    {
      "cell_type": "code",
      "source": [
        "plt.plot(test_predict)\n",
        "plt.plot(test_predict1)\n",
        "plt.plot(y_test)\n",
        "plt.xlabel('Time')\n",
        "plt.ylabel('Price')\n",
        "plt.legend(['RNN','LSTM','Original Price'])"
      ],
      "metadata": {
        "colab": {
          "base_uri": "https://localhost:8080/",
          "height": 296
        },
        "id": "W1Q2GnM6Bq7A",
        "outputId": "236df29f-7cb1-409e-b074-1de84fd1a5c8"
      },
      "execution_count": 62,
      "outputs": [
        {
          "output_type": "execute_result",
          "data": {
            "text/plain": [
              "<matplotlib.legend.Legend at 0x7f547405b090>"
            ]
          },
          "metadata": {},
          "execution_count": 62
        },
        {
          "output_type": "display_data",
          "data": {
            "text/plain": [
              "<Figure size 432x288 with 1 Axes>"
            ],
            "image/png": "[encoded data removed]"
          },
          "metadata": {
            "needs_background": "light"
          }
        }
      ]
    }
  ]
}